{
 "cells": [
  {
   "cell_type": "code",
   "execution_count": 14,
   "metadata": {},
   "outputs": [],
   "source": [
    "import numpy as np\n",
    "import matplotlib.pyplot as plt\n",
    "import math"
   ]
  },
  {
   "cell_type": "code",
   "execution_count": 181,
   "metadata": {},
   "outputs": [
    {
     "name": "stderr",
     "output_type": "stream",
     "text": [
      "D:\\python\\lib\\site-packages\\ipykernel_launcher.py:7: RuntimeWarning: covariance is not symmetric positive-semidefinite.\n",
      "  import sys\n"
     ]
    },
    {
     "data": {
      "text/plain": [
       "Text(0.5, 1.0, 'Data will use')"
      ]
     },
     "execution_count": 181,
     "metadata": {},
     "output_type": "execute_result"
    },
    {
     "data": {
      "image/png": "[encoded data removed]",
      "text/plain": [
       "<Figure size 432x288 with 1 Axes>"
      ]
     },
     "metadata": {
      "needs_background": "light"
     },
     "output_type": "display_data"
    }
   ],
   "source": [
    "#generate data base, some random 2D-Gaussian distribution\n",
    "mu0 = np.array([1,1])\n",
    "mu1 = np.array([6,6])\n",
    "sigma0 = np.array([[0.5,0],[0,0.5]])\n",
    "sigma1 = np.array([[0.5,0.5],[0,0.5]])\n",
    "gaussian_1 = np.random.multivariate_normal(mu0,sigma0,100)\n",
    "gaussian_2 = np.random.multivariate_normal(mu1,sigma1,100)\n",
    "data = np.vstack((gaussian_1,gaussian_2)) #the data I will use\n",
    "plt.plot(gaussian_1[:,0],gaussian_1[:,1],'r.')\n",
    "plt.plot(gaussian_2[:,0],gaussian_2[:,1],'b.')\n",
    "plt.title('Data will use')"
   ]
  },
  {
   "cell_type": "code",
   "execution_count": 182,
   "metadata": {},
   "outputs": [],
   "source": [
    "#some function we will use\n",
    "#calculate the Euclidian distance\n",
    "def E_distance(center_points,point):\n",
    "    return np.sqrt(sum(np.power((center_points - point),2)))\n",
    "#point in center point region\n",
    "\n",
    "#determine whether the point is in or out the cluster, r is the radius of this region  \n",
    "def determine(center_points, points, r, min_point_num, cluster_result, cluster_num):\n",
    "    #points is a matrix of points we will use\n",
    "    num_points = []\n",
    "    num_point_use = []\n",
    "    region_center_point = []\n",
    "    for i in range(len(points)):\n",
    "        if cluster_result[i] == 0 or cluster_result[i] == cluster_num:\n",
    "            if E_distance(center_points,points[i,:]) < r:\n",
    "                num_points.append(i)\n",
    "                if cluster_result[i] != cluster_num: #when we move, only consider the point which has not been considered before\n",
    "                    num_point_use.append(i)\n",
    "    if len(num_points) < min_point_num:# means this is a noise point or an edge point\n",
    "        for i in range(len(num_points)):\n",
    "            if cluster_result[i] == 0: #this should be a noise point\n",
    "                cluster_result[i] = np.inf  \n",
    "        #print('edge')\n",
    "        return cluster_result\n",
    "    else:\n",
    "        for j in range(len(num_point_use)):\n",
    "            cluster_result[num_point_use[j]] = cluster_num\n",
    "            #region_center_point.append(points[i,:])\n",
    "        for j in range(len(num_point_use)):\n",
    "            if E_distance(points[num_point_use[j],:], center_points) != 0:\n",
    "                cluster_result = determine(points[num_point_use[j]],points,r,min_point_num,cluster_result,cluster_num)\n",
    "        #print('useful',max(cluster_result))\n",
    "        return cluster_result\n",
    "            \n",
    "            \n",
    "    #return cluster_result        \n",
    "        #cluster_result[i] = cluster_num\n",
    "    \n",
    "def DB_scan(points,r,min_point_num):\n",
    "    cluster_result = [0]*len(points)\n",
    "    cluster_num = 1\n",
    "    number = 0\n",
    "    for i in range(len(points)):\n",
    "        if cluster_result[i] == 0:\n",
    "            #print(cluster_num)\n",
    "            cluster_result = determine(points[i], points, r, min_point_num, cluster_result, cluster_num)\n",
    "            #number = sum(cluser_result != 0 and cluster_result != np.inf)\n",
    "            cluster_num = cluster_num + 1 # new group\n",
    "            #print('new cluster')\n",
    "    return cluster_result,max(cluster_result)\n",
    "            \n",
    "#for element in vector cluster_result, 0 means point i has not been clustered, other number means the group of point i"
   ]
  },
  {
   "cell_type": "code",
   "execution_count": 186,
   "metadata": {},
   "outputs": [],
   "source": [
    "data_result, group_num = DB_scan(data,0.8,2)"
   ]
  },
  {
   "cell_type": "code",
   "execution_count": 188,
   "metadata": {},
   "outputs": [
    {
     "data": {
      "text/plain": [
       "Text(0.5, 1.0, 'one result')"
      ]
     },
     "execution_count": 188,
     "metadata": {},
     "output_type": "execute_result"
    },
    {
     "data": {
      "image/png": "[encoded data removed]",
      "text/plain": [
       "<Figure size 432x288 with 1 Axes>"
      ]
     },
     "metadata": {
      "needs_background": "light"
     },
     "output_type": "display_data"
    }
   ],
   "source": [
    "plt.figure()\n",
    "for j in range(group_num):\n",
    "    #group = [i for i in data_result if data_result[i] == j]\n",
    "    group = np.array([])\n",
    "    for i in range(len(data_result)):\n",
    "        if data_result[i] == j+1:\n",
    "            if len(group) == 0:\n",
    "                group = data[i]\n",
    "            else:\n",
    "                group = np.vstack((group,data[i]))\n",
    "    if len(group) != 0:    \n",
    "        plt.plot(group[:,0],group[:,1],'.')\n",
    "plt.title(\"one result\")"
   ]
  },
  {
   "cell_type": "code",
   "execution_count": null,
   "metadata": {},
   "outputs": [],
   "source": []
  },
  {
   "cell_type": "code",
   "execution_count": null,
   "metadata": {},
   "outputs": [],
   "source": []
  },
  {
   "cell_type": "code",
   "execution_count": null,
   "metadata": {},
   "outputs": [],
   "source": []
  }
 ],
 "metadata": {
  "kernelspec": {
   "display_name": "Python 3",
   "language": "python",
   "name": "python3"
  },
  "language_info": {
   "codemirror_mode": {
    "name": "ipython",
    "version": 3
   },
   "file_extension": ".py",
   "mimetype": "text/x-python",
   "name": "python",
   "nbconvert_exporter": "python",
   "pygments_lexer": "ipython3",
   "version": "3.7.2"
  }
 },
 "nbformat": 4,
 "nbformat_minor": 2
}
